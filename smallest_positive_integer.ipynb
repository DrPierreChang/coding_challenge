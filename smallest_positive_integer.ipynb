{
 "cells": [
  {
   "cell_type": "markdown",
   "id": "679cf040-305a-4f20-920e-9b0e0c07c599",
   "metadata": {},
   "source": [
    "This is a demo task.\n",
    "\n",
    "Write a function:\n",
    "\n",
    "def solution(A)\n",
    "\n",
    "that, given an array A of N integers, returns the smallest positive integer (greater than 0) that does not occur in A.\n",
    "\n",
    "For example, given A = [1, 3, 6, 4, 1, 2], the function should return 5.\n",
    "\n",
    "Given A = [1, 2, 3], the function should return 4.\n",
    "\n",
    "Given A = [−1, −3], the function should return 1.\n",
    "\n",
    "Write an efficient algorithm for the following assumptions:\n",
    "\n",
    "N is an integer within the range [1..100,000];\n",
    "each element of array A is an integer within the range [−1,000,000..1,000,000].\n",
    "Copyright 2009–2021 by Codility Limited. All Rights Reserved. Unauthorized copying, publication or disclosure prohibited."
   ]
  },
  {
   "cell_type": "code",
   "execution_count": 3,
   "id": "ae1d6813-c906-4e51-b325-96d1245a5577",
   "metadata": {},
   "outputs": [
    {
     "name": "stdout",
     "output_type": "stream",
     "text": [
      "3\n",
      "3\n",
      "5\n",
      "6\n",
      "3\n",
      "7\n",
      "9\n",
      "9\n"
     ]
    }
   ],
   "source": [
    "def solution(A):\n",
    "    A = [i for i in A if i > 0]\n",
    "    A.sort()\n",
    "    if A:\n",
    "        s = set(range(A[0],A[-1])) - set(A)\n",
    "        if s:\n",
    "            return min(s)\n",
    "        else:\n",
    "            return A[-1] + 1\n",
    "    return 1\n",
    "\n",
    "\n",
    "print(solution(range(-1000000, 1000000, 2)))\n",
    "print(solution(range(-1000000, 1000000, 3)))\n",
    "print(solution(range(-1000000, 1000000, 4)))\n",
    "print(solution(range(-1000000, 1000000, 5)))\n",
    "print(solution(range(-1000000, 1000000, 6)))\n",
    "print(solution(range(-1000000, 1000000, 7)))\n",
    "print(solution(range(-1000000, 1000000, 8)))\n",
    "print(solution(range(-1000000, 1000000, 9)))"
   ]
  }
 ],
 "metadata": {
  "kernelspec": {
   "display_name": "Python 3 (ipykernel)",
   "language": "python",
   "name": "python3"
  },
  "language_info": {
   "codemirror_mode": {
    "name": "ipython",
    "version": 3
   },
   "file_extension": ".py",
   "mimetype": "text/x-python",
   "name": "python",
   "nbconvert_exporter": "python",
   "pygments_lexer": "ipython3",
   "version": "3.9.7"
  }
 },
 "nbformat": 4,
 "nbformat_minor": 5
}
